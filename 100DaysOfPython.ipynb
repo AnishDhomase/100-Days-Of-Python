{
  "nbformat": 4,
  "nbformat_minor": 0,
  "metadata": {
    "colab": {
      "provenance": [],
      "authorship_tag": "ABX9TyNNrgjAl1SVQGQfFmEvxw+m",
      "include_colab_link": true
    },
    "kernelspec": {
      "name": "python3",
      "display_name": "Python 3"
    },
    "language_info": {
      "name": "python"
    }
  },
  "cells": [
    {
      "cell_type": "markdown",
      "metadata": {
        "id": "view-in-github",
        "colab_type": "text"
      },
      "source": [
        "<a href=\"https://colab.research.google.com/github/AnishDhomase/100-Days-Of-Python/blob/main/100DaysOfPython.ipynb\" target=\"_parent\"><img src=\"https://colab.research.google.com/assets/colab-badge.svg\" alt=\"Open In Colab\"/></a>"
      ]
    },
    {
      "cell_type": "markdown",
      "source": [
        "👉🏻 **Printing**"
      ],
      "metadata": {
        "id": "X-NSwFbXBY5A"
      }
    },
    {
      "cell_type": "code",
      "execution_count": null,
      "metadata": {
        "colab": {
          "base_uri": "https://localhost:8080/"
        },
        "id": "_BQE3Hy0BDLR",
        "outputId": "078444bd-3b5d-405a-9797-11779717a1f7"
      },
      "outputs": [
        {
          "output_type": "stream",
          "name": "stdout",
          "text": [
            "123\n",
            "Hello Anish\n",
            "my name is \"Anish\"\n",
            "my name is \"Anish\"\n",
            "my name is\n",
            "Anish\n",
            "HelloAnish\n",
            "My name is \n",
            "Anish\n",
            "A Developer\n"
          ]
        }
      ],
      "source": [
        "print(123)\n",
        "print(\"Hello\", \"Anish\")\n",
        "\n",
        "#Quotation\n",
        "#print(\"my name is \"Anish\"\") #won't work\n",
        "print('my name is \"Anish\"')\n",
        "print(\"my name is \\\"Anish\\\"\")\n",
        "\n",
        "#new Line\n",
        "print(\"my name is\\nAnish\")\n",
        "\n",
        "#Concatination\n",
        "print(\"Hello\" + \"Anish\")\n",
        "\n",
        "#Two types of errors : Indentation, Syntax\n",
        "\n",
        "#Multiline strings\n",
        "print('''My name is\n",
        "Anish\n",
        "A Developer''')\n"
      ]
    },
    {
      "cell_type": "markdown",
      "source": [
        "👉🏻 **Input**"
      ],
      "metadata": {
        "id": "lsZfVPpcDo7F"
      }
    },
    {
      "cell_type": "code",
      "source": [
        "input(\"Enter Name: \")\n",
        "print(\"Hello,>>>>>\", input(\"Enter Name: \"))"
      ],
      "metadata": {
        "colab": {
          "base_uri": "https://localhost:8080/"
        },
        "id": "LwaIaOe5DnTw",
        "outputId": "bb9c9752-6c4d-4af9-9ca4-d5a7dbd5ff44"
      },
      "execution_count": null,
      "outputs": [
        {
          "output_type": "stream",
          "name": "stdout",
          "text": [
            "Enter Name: Enter\n",
            "Enter Name: Anish\n",
            "Hello, Anish\n"
          ]
        }
      ]
    },
    {
      "cell_type": "markdown",
      "source": [
        "👉🏻 **Variables**"
      ],
      "metadata": {
        "id": "Le2PDyu5Dnpu"
      }
    },
    {
      "cell_type": "code",
      "source": [
        "a = \"Anish\"\n",
        "b = 123\n",
        "c = input(\"Your city? \") #string datatype\n",
        "print(a, b, c, len(c))"
      ],
      "metadata": {
        "colab": {
          "base_uri": "https://localhost:8080/"
        },
        "id": "wXw-qylvF5Sb",
        "outputId": "93febb5f-f7b5-4925-f41d-798c9acecfc5"
      },
      "execution_count": null,
      "outputs": [
        {
          "output_type": "stream",
          "name": "stdout",
          "text": [
            "Your city? pune\n",
            "Anish 123 pune 4\n"
          ]
        }
      ]
    },
    {
      "cell_type": "markdown",
      "source": [
        "👉🏻 **Data Types**"
      ],
      "metadata": {
        "id": "QAOnPaYkKn_P"
      }
    },
    {
      "cell_type": "code",
      "source": [
        "#string\n",
        "print(\"Anish\"[0]) #subscript operator\n",
        "\n",
        "#integer\n",
        "print(1_23_001)\n",
        "\n",
        "#Float\n",
        "print(1.123)\n",
        "\n",
        "#Boolean\n",
        "print(True)\n",
        "\n",
        "#Type\n",
        "print(type(123))\n",
        "\n",
        "#Type casting\n",
        "print(\"Length of string is \" + len(\"Anish\")) #Concat Error\n",
        "print(\"Length of string is \" + str(len(\"Anish\"))) #float(\"123\"), int(\"123\")\n",
        "print(type(6/2)) #float\n",
        "print(type(6.1**2))"
      ],
      "metadata": {
        "colab": {
          "base_uri": "https://localhost:8080/"
        },
        "id": "XnahUjULKqrq",
        "outputId": "340776c7-8e96-4b62-85a0-07a44ddd1d92"
      },
      "execution_count": null,
      "outputs": [
        {
          "output_type": "stream",
          "name": "stdout",
          "text": [
            "A\n",
            "123001\n",
            "1.123\n",
            "True\n",
            "<class 'int'>\n",
            "Length of string is 5\n",
            "<class 'float'>\n",
            "<class 'float'>\n"
          ]
        }
      ]
    },
    {
      "cell_type": "markdown",
      "source": [
        "👉🏻 **Operators**"
      ],
      "metadata": {
        "id": "BAGFwdmUOt1B"
      }
    },
    {
      "cell_type": "code",
      "source": [
        "#Order Of execution is:   ()  >  (**)   >   (*, /)   >   (+, -)"
      ],
      "metadata": {
        "id": "eNLdXYobOxl_"
      },
      "execution_count": null,
      "outputs": []
    },
    {
      "cell_type": "markdown",
      "source": [
        "👉🏻 **Number Manipulation**"
      ],
      "metadata": {
        "id": "24jnuDMtg_Ja"
      }
    },
    {
      "cell_type": "code",
      "source": [
        "print(10/3)\n",
        "print(round(10/3))\n",
        "print(round(10/3, 3))\n",
        "print(10//3) #flour Division"
      ],
      "metadata": {
        "colab": {
          "base_uri": "https://localhost:8080/"
        },
        "id": "faV2SHAEhF9w",
        "outputId": "fcbc9f8a-b277-4d60-e448-be9cb3d25960"
      },
      "execution_count": null,
      "outputs": [
        {
          "output_type": "stream",
          "name": "stdout",
          "text": [
            "3.3333333333333335\n",
            "3\n",
            "3.333\n",
            "3\n"
          ]
        }
      ]
    },
    {
      "cell_type": "markdown",
      "source": [
        "👉🏻 **f-string**"
      ],
      "metadata": {
        "id": "CgZPthzsiK4m"
      }
    },
    {
      "cell_type": "code",
      "source": [
        "name = \"Anish\"\n",
        "age = 20\n",
        "print(f\"My name is {name} and my age is {age}\")"
      ],
      "metadata": {
        "colab": {
          "base_uri": "https://localhost:8080/"
        },
        "id": "sIdB4o4uiN3u",
        "outputId": "9f211ef8-110a-4f8d-f416-329d53a6fb95"
      },
      "execution_count": null,
      "outputs": [
        {
          "output_type": "stream",
          "name": "stdout",
          "text": [
            "My name is Anish and my age is 20\n"
          ]
        }
      ]
    },
    {
      "cell_type": "markdown",
      "source": [
        "👉🏻 **Control Flow**"
      ],
      "metadata": {
        "id": "MpD2hxTXmN3f"
      }
    },
    {
      "cell_type": "code",
      "source": [
        "age = int(input(\"Enter your age: \"))\n",
        "if age > 18:\n",
        "  print(\"You can vote!\")\n",
        "elif age == 18:\n",
        "  print(\"First register for voting and start voting!\")\n",
        "else:\n",
        "  print(\"You are not eligible for voting!\")\n",
        "\n",
        "year = int(input(\"Enter year: \"))\n",
        "if year % 4 == 0:\n",
        "  if year % 100 == 0:\n",
        "    if year % 400 == 0:\n",
        "      print(year, \"is Leap year\")\n",
        "    else:\n",
        "      print(year, \"is not Leap year\")\n",
        "  else:\n",
        "    print(year, \"is Leap year\")\n",
        "else:\n",
        "  print(year, \"is not Leap year\")"
      ],
      "metadata": {
        "id": "EWL4RK6KmQvW",
        "colab": {
          "base_uri": "https://localhost:8080/"
        },
        "outputId": "1244dbe3-81a0-413a-b9ac-69390604fae2"
      },
      "execution_count": null,
      "outputs": [
        {
          "output_type": "stream",
          "name": "stdout",
          "text": [
            "You are not eligible for voting!\n",
            "Enter year: 1800\n",
            "1800 is not Leap year\n"
          ]
        }
      ]
    },
    {
      "cell_type": "markdown",
      "source": [
        "👉🏻 **Logical operator**"
      ],
      "metadata": {
        "id": "1fnw0hqBuFUV"
      }
    },
    {
      "cell_type": "code",
      "source": [
        "# and or not"
      ],
      "metadata": {
        "id": "--CnxyVOuJ3w"
      },
      "execution_count": null,
      "outputs": []
    },
    {
      "cell_type": "markdown",
      "source": [
        "👉🏻 **Randomization**"
      ],
      "metadata": {
        "id": "BUGyzErBvb0C"
      }
    },
    {
      "cell_type": "code",
      "source": [
        "import random #random module\n",
        "print(random.randint(1, 10)) #Number between 1 and 10 inclusive\n",
        "print(random.random()) #Number between 0 and 1 inclusive"
      ],
      "metadata": {
        "colab": {
          "base_uri": "https://localhost:8080/"
        },
        "id": "uBo7zwvk1CxR",
        "outputId": "4c65c1da-d785-4ab2-fa6e-660e4c8c3d58"
      },
      "execution_count": null,
      "outputs": [
        {
          "output_type": "stream",
          "name": "stdout",
          "text": [
            "3\n",
            "0.40751009689934503\n"
          ]
        }
      ]
    },
    {
      "cell_type": "markdown",
      "source": [
        "👉🏻 **List**"
      ],
      "metadata": {
        "id": "TKdQwanf2zXY"
      }
    },
    {
      "cell_type": "code",
      "source": [
        "list = [1, \"Anish\", True, 1.123]\n",
        "print(list[0])\n",
        "list[-1] = 3.14\n",
        "print(list)\n",
        "\n",
        "list.append(False)\n",
        "print(list)\n",
        "\n",
        "list.extend([\"Dhomase\", 321])\n",
        "print(list)\n",
        "\n",
        "list.remove(\"Dhomase\")\n",
        "print(list)\n",
        "\n",
        "print(\"Index of Anish\", list.index(\"Anish\"))\n",
        "\n",
        "#Nested List\n",
        "nestedList = [1, 2, list]\n",
        "print(nestedList)\n",
        "print(nestedList[0])\n",
        "print(nestedList[2])\n",
        "print(nestedList[2][0])\n",
        "\n",
        "\n"
      ],
      "metadata": {
        "colab": {
          "base_uri": "https://localhost:8080/"
        },
        "id": "GuC98M-E23Jv",
        "outputId": "3d04641c-ee71-4e32-94d0-111f8016f07e"
      },
      "execution_count": null,
      "outputs": [
        {
          "output_type": "stream",
          "name": "stdout",
          "text": [
            "1\n",
            "[1, 'Anish', True, 3.14]\n",
            "[1, 'Anish', True, 3.14, False]\n",
            "[1, 'Anish', True, 3.14, False, 'Dhomase', 321]\n",
            "[1, 'Anish', True, 3.14, False, 321]\n",
            "Index of Anish 1\n",
            "[1, 2, [1, 'Anish', True, 3.14, False, 321]]\n",
            "1\n",
            "[1, 'Anish', True, 3.14, False, 321]\n",
            "1\n"
          ]
        }
      ]
    },
    {
      "cell_type": "markdown",
      "source": [
        "👉🏻 **Loops**"
      ],
      "metadata": {
        "id": "_6H8LwhW9wt8"
      }
    },
    {
      "cell_type": "code",
      "source": [
        "list = [\"Anish\", 1, True]\n",
        "\n",
        "#for-in loop\n",
        "for item in list:\n",
        "  print(item)\n",
        "\n",
        "#for loop\n",
        "for i in range(0, len(list)):\n",
        "  print(list[i])\n",
        "\n",
        "#while loop\n",
        "i = 0\n",
        "while i < len(list):\n",
        "  print(list[i])\n",
        "  i+=1\n"
      ],
      "metadata": {
        "colab": {
          "base_uri": "https://localhost:8080/"
        },
        "id": "u-3zZbFc92ho",
        "outputId": "307fcb7d-c4ab-497f-cff5-01e95716533c"
      },
      "execution_count": 9,
      "outputs": [
        {
          "output_type": "stream",
          "name": "stdout",
          "text": [
            "Anish\n",
            "1\n",
            "True\n",
            "Anish\n",
            "1\n",
            "True\n",
            "Anish\n",
            "1\n",
            "True\n"
          ]
        }
      ]
    }
  ]
}