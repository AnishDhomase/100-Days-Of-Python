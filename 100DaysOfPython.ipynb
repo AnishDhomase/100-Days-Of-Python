{
  "nbformat": 4,
  "nbformat_minor": 0,
  "metadata": {
    "colab": {
      "provenance": [],
      "authorship_tag": "ABX9TyOzMKGCmvSC1MKlbL/rpvSd",
      "include_colab_link": true
    },
    "kernelspec": {
      "name": "python3",
      "display_name": "Python 3"
    },
    "language_info": {
      "name": "python"
    }
  },
  "cells": [
    {
      "cell_type": "markdown",
      "metadata": {
        "id": "view-in-github",
        "colab_type": "text"
      },
      "source": [
        "<a href=\"https://colab.research.google.com/github/AnishDhomase/100-Days-Of-Python/blob/main/100DaysOfPython.ipynb\" target=\"_parent\"><img src=\"https://colab.research.google.com/assets/colab-badge.svg\" alt=\"Open In Colab\"/></a>"
      ]
    },
    {
      "cell_type": "markdown",
      "source": [
        "👉🏻 **Printing**"
      ],
      "metadata": {
        "id": "X-NSwFbXBY5A"
      }
    },
    {
      "cell_type": "code",
      "execution_count": null,
      "metadata": {
        "colab": {
          "base_uri": "https://localhost:8080/"
        },
        "id": "_BQE3Hy0BDLR",
        "outputId": "078444bd-3b5d-405a-9797-11779717a1f7"
      },
      "outputs": [
        {
          "output_type": "stream",
          "name": "stdout",
          "text": [
            "123\n",
            "Hello Anish\n",
            "my name is \"Anish\"\n",
            "my name is \"Anish\"\n",
            "my name is\n",
            "Anish\n",
            "HelloAnish\n",
            "My name is \n",
            "Anish\n",
            "A Developer\n"
          ]
        }
      ],
      "source": [
        "print(123)\n",
        "print(\"Hello\", \"Anish\")\n",
        "\n",
        "#Quotation\n",
        "#print(\"my name is \"Anish\"\") #won't work\n",
        "print('my name is \"Anish\"')\n",
        "print(\"my name is \\\"Anish\\\"\")\n",
        "\n",
        "#new Line\n",
        "print(\"my name is\\nAnish\")\n",
        "\n",
        "#Concatination\n",
        "print(\"Hello\" + \"Anish\")\n",
        "\n",
        "#Two types of errors : Indentation, Syntax\n",
        "\n",
        "#Multiline strings\n",
        "print('''My name is\n",
        "Anish\n",
        "A Developer''')"
      ]
    },
    {
      "cell_type": "markdown",
      "source": [
        "👉🏻 **Input**"
      ],
      "metadata": {
        "id": "lsZfVPpcDo7F"
      }
    },
    {
      "cell_type": "code",
      "source": [
        "input(\"Enter Name: \")\n",
        "print(\"Hello,>>>>>\", input(\"Enter Name: \"))"
      ],
      "metadata": {
        "colab": {
          "base_uri": "https://localhost:8080/"
        },
        "id": "LwaIaOe5DnTw",
        "outputId": "bb9c9752-6c4d-4af9-9ca4-d5a7dbd5ff44"
      },
      "execution_count": null,
      "outputs": [
        {
          "output_type": "stream",
          "name": "stdout",
          "text": [
            "Enter Name: Enter\n",
            "Enter Name: Anish\n",
            "Hello, Anish\n"
          ]
        }
      ]
    },
    {
      "cell_type": "markdown",
      "source": [
        "👉🏻 **Variables**"
      ],
      "metadata": {
        "id": "Le2PDyu5Dnpu"
      }
    },
    {
      "cell_type": "code",
      "source": [
        "a = \"Anish\"\n",
        "b = 123\n",
        "c = input(\"Your city? \") #string datatype\n",
        "print(a, b, c, len(c))"
      ],
      "metadata": {
        "colab": {
          "base_uri": "https://localhost:8080/"
        },
        "id": "wXw-qylvF5Sb",
        "outputId": "93febb5f-f7b5-4925-f41d-798c9acecfc5"
      },
      "execution_count": null,
      "outputs": [
        {
          "output_type": "stream",
          "name": "stdout",
          "text": [
            "Your city? pune\n",
            "Anish 123 pune 4\n"
          ]
        }
      ]
    },
    {
      "cell_type": "markdown",
      "source": [
        "👉🏻 **Data Types**"
      ],
      "metadata": {
        "id": "QAOnPaYkKn_P"
      }
    },
    {
      "cell_type": "code",
      "source": [
        "#string\n",
        "print(\"Anish\"[0]) #subscript operator\n",
        "\n",
        "#integer\n",
        "print(1_23_001)\n",
        "\n",
        "#Float\n",
        "print(1.123)\n",
        "\n",
        "#Boolean\n",
        "print(True)\n",
        "\n",
        "#Type\n",
        "print(type(123))\n",
        "\n",
        "#Type casting\n",
        "print(\"Length of string is \" + len(\"Anish\")) #Concat Error\n",
        "print(\"Length of string is \" + str(len(\"Anish\"))) #float(\"123\"), int(\"123\")\n",
        "print(type(6/2)) #float\n",
        "print(type(6.1**2))"
      ],
      "metadata": {
        "colab": {
          "base_uri": "https://localhost:8080/"
        },
        "id": "XnahUjULKqrq",
        "outputId": "340776c7-8e96-4b62-85a0-07a44ddd1d92"
      },
      "execution_count": null,
      "outputs": [
        {
          "output_type": "stream",
          "name": "stdout",
          "text": [
            "A\n",
            "123001\n",
            "1.123\n",
            "True\n",
            "<class 'int'>\n",
            "Length of string is 5\n",
            "<class 'float'>\n",
            "<class 'float'>\n"
          ]
        }
      ]
    },
    {
      "cell_type": "markdown",
      "source": [
        "👉🏻 **Operators**"
      ],
      "metadata": {
        "id": "BAGFwdmUOt1B"
      }
    },
    {
      "cell_type": "code",
      "source": [
        "#Order Of execution is:   ()  >  (**)   >   (*, /)   >   (+, -)"
      ],
      "metadata": {
        "id": "eNLdXYobOxl_"
      },
      "execution_count": null,
      "outputs": []
    },
    {
      "cell_type": "markdown",
      "source": [
        "👉🏻 **Number Manipulation**"
      ],
      "metadata": {
        "id": "24jnuDMtg_Ja"
      }
    },
    {
      "cell_type": "code",
      "source": [
        "print(10/3)\n",
        "print(round(10/4.5))\n",
        "print(round(10/3, 3))\n",
        "print(10//3) #flour Division\n",
        "\n",
        "print(\"\\n\")\n",
        "import math\n",
        "print(math.ceil(10/3))"
      ],
      "metadata": {
        "colab": {
          "base_uri": "https://localhost:8080/"
        },
        "id": "faV2SHAEhF9w",
        "outputId": "7b8ca774-6af8-461e-c187-c4f641bfe5fe"
      },
      "execution_count": 36,
      "outputs": [
        {
          "output_type": "stream",
          "name": "stdout",
          "text": [
            "3.3333333333333335\n",
            "2\n",
            "3.333\n",
            "3\n",
            "\n",
            "\n",
            "4\n"
          ]
        }
      ]
    },
    {
      "cell_type": "markdown",
      "source": [
        "👉🏻 **f-string**"
      ],
      "metadata": {
        "id": "CgZPthzsiK4m"
      }
    },
    {
      "cell_type": "code",
      "source": [
        "name = \"Anish\"\n",
        "age = 20\n",
        "print(f\"My name is {name} and my age is {age}\")"
      ],
      "metadata": {
        "colab": {
          "base_uri": "https://localhost:8080/"
        },
        "id": "sIdB4o4uiN3u",
        "outputId": "9f211ef8-110a-4f8d-f416-329d53a6fb95"
      },
      "execution_count": null,
      "outputs": [
        {
          "output_type": "stream",
          "name": "stdout",
          "text": [
            "My name is Anish and my age is 20\n"
          ]
        }
      ]
    },
    {
      "cell_type": "markdown",
      "source": [
        "👉🏻 **Control Flow**"
      ],
      "metadata": {
        "id": "MpD2hxTXmN3f"
      }
    },
    {
      "cell_type": "code",
      "source": [
        "age = int(input(\"Enter your age: \"))\n",
        "if age > 18:\n",
        "    print(\"You can vote!\")\n",
        "elif age == 18:\n",
        "    print(\"First register for voting and start voting!\")\n",
        "else:\n",
        "    print(\"You are not eligible for voting!\")\n",
        "print(\"\\n\")\n",
        "\n",
        "year = int(input(\"Enter year: \"))\n",
        "if year % 4 == 0:\n",
        "    if year % 100 == 0:\n",
        "        if year % 400 == 0:\n",
        "            print(year, \"is Leap year\")\n",
        "        else:\n",
        "            print(year, \"is not Leap year\")\n",
        "    else:\n",
        "        print(year, \"is Leap year\")\n",
        "else:\n",
        "    print(year, \"is not Leap year\")\n",
        "\n",
        "print(\"\\n\")\n",
        "word = \"anish\"\n",
        "guess = input(\"Guess letter: \")\n",
        "if guess not in word:\n",
        "    print(\"No match!\")\n",
        "else:\n",
        "    print(\"Match!\")"
      ],
      "metadata": {
        "id": "EWL4RK6KmQvW",
        "colab": {
          "base_uri": "https://localhost:8080/"
        },
        "outputId": "8b1e9bd9-9849-4c49-9867-b196a60eb87b"
      },
      "execution_count": 22,
      "outputs": [
        {
          "output_type": "stream",
          "name": "stdout",
          "text": [
            "\n",
            "\n",
            "Guess letter: e\n",
            "No match!\n"
          ]
        }
      ]
    },
    {
      "cell_type": "markdown",
      "source": [
        "👉🏻 **Logical operator**"
      ],
      "metadata": {
        "id": "1fnw0hqBuFUV"
      }
    },
    {
      "cell_type": "code",
      "source": [
        "# and or not"
      ],
      "metadata": {
        "id": "--CnxyVOuJ3w"
      },
      "execution_count": null,
      "outputs": []
    },
    {
      "cell_type": "markdown",
      "source": [
        "👉🏻 **Randomization**"
      ],
      "metadata": {
        "id": "BUGyzErBvb0C"
      }
    },
    {
      "cell_type": "code",
      "source": [
        "import random #random module\n",
        "print(random.randint(1, 10)) #Number between 1 and 10 inclusive\n",
        "print(random.random()) #Number between 0 and 1 inclusive"
      ],
      "metadata": {
        "colab": {
          "base_uri": "https://localhost:8080/"
        },
        "id": "uBo7zwvk1CxR",
        "outputId": "4c65c1da-d785-4ab2-fa6e-660e4c8c3d58"
      },
      "execution_count": null,
      "outputs": [
        {
          "output_type": "stream",
          "name": "stdout",
          "text": [
            "3\n",
            "0.40751009689934503\n"
          ]
        }
      ]
    },
    {
      "cell_type": "markdown",
      "source": [
        "👉🏻 **List**"
      ],
      "metadata": {
        "id": "TKdQwanf2zXY"
      }
    },
    {
      "cell_type": "code",
      "source": [
        "list = [1, \"Anish\", True, 1.123]\n",
        "print(list[0])\n",
        "list[-1] = 3.14\n",
        "print(list)\n",
        "print(\"\\n\")\n",
        "\n",
        "list.append(False)\n",
        "print(list)\n",
        "print(\"\\n\")\n",
        "\n",
        "\n",
        "list.extend([\"Dhomase\", 321])\n",
        "print(list)\n",
        "print(\"\\n\")\n",
        "\n",
        "\n",
        "list.remove(\"Dhomase\")\n",
        "print(list)\n",
        "print(\"\\n\")\n",
        "\n",
        "\n",
        "print(\"Index of Anish\", list.index(\"Anish\"))\n",
        "print(\"\\n\")\n",
        "\n",
        "\n",
        "#Nested List\n",
        "nestedList = [1, 2, list]\n",
        "print(nestedList)\n",
        "print(nestedList[0])\n",
        "print(nestedList[2])\n",
        "print(nestedList[2][0])\n",
        "print(\"\\n\")\n",
        "\n",
        "#Randomization in List\n",
        "import random\n",
        "list = [1, 2, 3, 4, 5]\n",
        "print(random.choice(list))\n",
        "random.shuffle(list)\n",
        "print(list)"
      ],
      "metadata": {
        "colab": {
          "base_uri": "https://localhost:8080/"
        },
        "id": "GuC98M-E23Jv",
        "outputId": "e4482369-9bae-4f30-be91-4b31a928b95e"
      },
      "execution_count": 40,
      "outputs": [
        {
          "output_type": "stream",
          "name": "stdout",
          "text": [
            "1\n",
            "[1, 'Anish', True, 3.14]\n",
            "\n",
            "\n",
            "[1, 'Anish', True, 3.14, False]\n",
            "\n",
            "\n",
            "[1, 'Anish', True, 3.14, False, 'Dhomase', 321]\n",
            "\n",
            "\n",
            "[1, 'Anish', True, 3.14, False, 321]\n",
            "\n",
            "\n",
            "Index of Anish 1\n",
            "\n",
            "\n",
            "[1, 2, [1, 'Anish', True, 3.14, False, 321]]\n",
            "1\n",
            "[1, 'Anish', True, 3.14, False, 321]\n",
            "1\n",
            "\n",
            "\n",
            "5\n",
            "[3, 4, 5, 1, 2]\n"
          ]
        }
      ]
    },
    {
      "cell_type": "markdown",
      "source": [
        "👉🏻 **Loops**"
      ],
      "metadata": {
        "id": "_6H8LwhW9wt8"
      }
    },
    {
      "cell_type": "code",
      "source": [
        "list = [\"Anish\", 1, True]\n",
        "\n",
        "#for-in loop\n",
        "for item in list:\n",
        "    print(item)\n",
        "print(\"\\n\")\n",
        "\n",
        "#for loop\n",
        "for i in range(0, len(list), 2):  #range(start, end[exclusive], step)\n",
        "    print(i, list[i])\n",
        "print(\"\\n\")\n",
        "\n",
        "#while loop\n",
        "i = 0\n",
        "while i < len(list):\n",
        "    print(list[i])\n",
        "    i+=1\n",
        "\n",
        "#Random Password Generator\n",
        "size = []\n",
        "total = 0\n",
        "size.append(int(input(\"Enter Number of letters: \")))\n",
        "size.append(int(input(\"Enter Number of digits: \")))\n",
        "size.append(int(input(\"Enter Number of symbols: \")))\n",
        "for s in size:\n",
        "    total += s\n",
        "\n",
        "letters = ['A', 'B', 'C', 'D', 'E', 'F', 'G', 'H', 'I', 'J', 'K', 'L', 'M', 'N', 'O', 'P', 'Q', 'R', 'S', 'T', 'U', 'V', 'W', 'X', 'Y', 'Z']\n",
        "digits = ['0', '1', '2', '3', '4', '5', '6', '7', '8', '9']\n",
        "symbols = ['!', '@', '#', '$', '%', '^', '&', '*', '(', ')']\n",
        "\n",
        "keys = [letters, digits, symbols]\n",
        "password = \"\"\n",
        "\n",
        "import random\n",
        "for i in range(0, total):\n",
        "    type = random.randint(0, 2)\n",
        "    while size[type] == 0:\n",
        "        type = random.randint(0, 2)\n",
        "    size[type] -= 1\n",
        "    key = random.randint(0, len(keys[type])-1)\n",
        "    password += keys[type][key]\n",
        "\n",
        "print(password)"
      ],
      "metadata": {
        "colab": {
          "base_uri": "https://localhost:8080/"
        },
        "id": "u-3zZbFc92ho",
        "outputId": "13e00e08-4f82-44c0-c7cb-21a34a072c97"
      },
      "execution_count": 43,
      "outputs": [
        {
          "output_type": "stream",
          "name": "stdout",
          "text": [
            "Anish\n",
            "1\n",
            "True\n",
            "\n",
            "\n",
            "0 Anish\n",
            "2 True\n",
            "\n",
            "\n",
            "Anish\n",
            "1\n",
            "True\n",
            "Enter Number of letters: 1\n",
            "Enter Number of digits: 1\n",
            "Enter Number of symbols: 1\n",
            "#I4\n"
          ]
        }
      ]
    },
    {
      "cell_type": "markdown",
      "source": [
        "👉🏻 **Functions**"
      ],
      "metadata": {
        "id": "UmIDnkPtcJFG"
      }
    },
    {
      "cell_type": "code",
      "source": [
        "#\n",
        "#Function Defination - parameter is name\n",
        "def myFun(name):\n",
        "    print(\"Hello,\", name)\n",
        "\n",
        "#Function Call - argument is \"Anish\"\n",
        "myFun(\"Anish\")\n",
        "\n",
        "\n",
        "#Keyword arguments\n",
        "def show(a, b, c):\n",
        "    print(\"a =\", a, \"b =\", b,\" c =\", c)\n",
        "show(b=1, a=2, c=3)\n",
        "\n",
        "#Function with outcome\n",
        "def add(a, b):\n",
        "    return a + b\n",
        "print(add(3,4))\n",
        "\n",
        "#Docstring or multiline comments\n",
        "def add(a, b, c):\n",
        "    \"\"\"Adds 3 numbers\"\"\"\n",
        "    return a + b + c\n",
        "print(add(3, 4, 1))"
      ],
      "metadata": {
        "colab": {
          "base_uri": "https://localhost:8080/"
        },
        "id": "95v7UCJWcPIx",
        "outputId": "f371d158-dd30-4cdd-f3ca-dd43eeaeffb0"
      },
      "execution_count": 4,
      "outputs": [
        {
          "output_type": "stream",
          "name": "stdout",
          "text": [
            "Hello, Anish\n",
            "a = 2 b = 1  c = 3\n",
            "7\n",
            "8\n"
          ]
        }
      ]
    },
    {
      "cell_type": "markdown",
      "source": [
        "👉🏻 **Hangman Game**"
      ],
      "metadata": {
        "id": "IXlmFaYcm6X0"
      }
    },
    {
      "cell_type": "code",
      "source": [
        "import random\n",
        "wordList = [\"aeroplane\", \"cake\", \"banana\", \"earth\"]\n",
        "\n",
        "\n",
        "chosen_word = random.choice(wordList)\n",
        "lenWord = len(chosen_word)\n",
        "life = 5\n",
        "guessedLetters = 0\n",
        "result = False\n",
        "\n",
        "display = []\n",
        "for _ in chosen_word:\n",
        "    display += \"_\"\n",
        "\n",
        "print(display, \"Life:\", life)\n",
        "while life > 0:\n",
        "    guessedLetter = input(\"Guess a letter: \")\n",
        "    correctGuess = False\n",
        "    alreadyGuessed = False\n",
        "    for i in range(lenWord):\n",
        "        if guessedLetter == chosen_word[i]:\n",
        "            if display[i] == \"_\":\n",
        "                guessedLetters += 1\n",
        "            else:\n",
        "                alreadyGuessed = True\n",
        "                break\n",
        "            display[i] = guessedLetter\n",
        "            correctGuess = True\n",
        "    if alreadyGuessed:\n",
        "        print(\"You have already guessed the character:\", guessedLetter)\n",
        "    if not alreadyGuessed and not correctGuess:\n",
        "        life -= 1\n",
        "    print(display, \"Life:\", life)\n",
        "    if guessedLetters == lenWord:\n",
        "        result = True\n",
        "        break\n",
        "if result:\n",
        "    print(\"✔️ Victory\")\n",
        "else:\n",
        "    print(\"❌ Defeat\")"
      ],
      "metadata": {
        "colab": {
          "base_uri": "https://localhost:8080/"
        },
        "id": "62qijBZGnAci",
        "outputId": "ccf4562a-2e29-4117-a5a0-2597e19fecf8"
      },
      "execution_count": 29,
      "outputs": [
        {
          "output_type": "stream",
          "name": "stdout",
          "text": [
            "['_', '_', '_', '_', '_', '_', '_', '_', '_'] Life: 5\n",
            "Guess a letter: u\n",
            "['_', '_', '_', '_', '_', '_', '_', '_', '_'] Life: 4\n",
            "Guess a letter: a\n",
            "['a', '_', '_', '_', '_', '_', 'a', '_', '_'] Life: 4\n",
            "Guess a letter: e\n",
            "['a', 'e', '_', '_', '_', '_', 'a', '_', 'e'] Life: 4\n",
            "Guess a letter: r\n",
            "['a', 'e', 'r', '_', '_', '_', 'a', '_', 'e'] Life: 4\n",
            "Guess a letter: p\n",
            "['a', 'e', 'r', '_', 'p', '_', 'a', '_', 'e'] Life: 4\n",
            "Guess a letter: o\n",
            "['a', 'e', 'r', 'o', 'p', '_', 'a', '_', 'e'] Life: 4\n",
            "Guess a letter: a\n",
            "You have already guessed the character: a\n",
            "['a', 'e', 'r', 'o', 'p', '_', 'a', '_', 'e'] Life: 4\n",
            "Guess a letter: l\n",
            "['a', 'e', 'r', 'o', 'p', 'l', 'a', '_', 'e'] Life: 4\n",
            "Guess a letter: n\n",
            "['a', 'e', 'r', 'o', 'p', 'l', 'a', 'n', 'e'] Life: 4\n",
            "✔️ Victory\n"
          ]
        }
      ]
    },
    {
      "cell_type": "markdown",
      "source": [
        "👉🏻 **Dictionaries**"
      ],
      "metadata": {
        "id": "R9qr16yJvQWY"
      }
    },
    {
      "cell_type": "code",
      "source": [
        "address = \"addr\"\n",
        "school = \"sch\"\n",
        "#Key-Value pairs\n",
        "myDict = {\n",
        "    \"name\" : \"Anish\",\n",
        "    \"age\" : 20,\n",
        "    123 : \"Number!\",\n",
        "    \"addr\" : \"Pune\",\n",
        "    school : \"IIITB\"\n",
        "}\n",
        "print(myDict)\n",
        "print(\"\\n\")\n",
        "\n",
        "\n",
        "##Accessing\n",
        "print(myDict[\"name\"])\n",
        "print(myDict[123])\n",
        "print(myDict[address])\n",
        "print(myDict[school])\n",
        "#print(myDict[\"namee\"]) #Key error\n",
        "print(\"\\n\")\n",
        "\n",
        "#Traversing\n",
        "for key in myDict:\n",
        "    print(key, myDict[key])\n",
        "print(\"\\n\")\n",
        "\n",
        "\n",
        "##Modification\n",
        "#Addition/Edit of data\n",
        "myDict[\"phone\"] = 9890235487\n",
        "myDict[\"addr\"] = \"Bhopal\"\n",
        "print(myDict)\n",
        "print(\"\\n\")\n",
        "\n",
        "#Empty Dictionary\n",
        "emptyDict = {}\n",
        "print(emptyDict)\n",
        "print(\"\\n\")\n",
        "\n",
        "#Wipe Dictionary\n",
        "myDict = {}\n",
        "print(myDict)"
      ],
      "metadata": {
        "colab": {
          "base_uri": "https://localhost:8080/"
        },
        "id": "lfUquruoRMD8",
        "outputId": "f35ba0e2-97a4-484f-da29-8b2079e9c813"
      },
      "execution_count": 52,
      "outputs": [
        {
          "output_type": "stream",
          "name": "stdout",
          "text": [
            "{'name': 'Anish', 'age': 20, 123: 'Number!', 'addr': 'Pune', 'sch': 'IIITB'}\n",
            "\n",
            "\n",
            "Anish\n",
            "Number!\n",
            "Pune\n",
            "IIITB\n",
            "\n",
            "\n",
            "name Anish\n",
            "age 20\n",
            "123 Number!\n",
            "addr Pune\n",
            "sch IIITB\n",
            "\n",
            "\n",
            "{'name': 'Anish', 'age': 20, 123: 'Number!', 'addr': 'Bhopal', 'sch': 'IIITB', 'phone': 9890235487}\n",
            "\n",
            "\n",
            "{}\n",
            "\n",
            "\n",
            "{}\n",
            "\n",
            "\n"
          ]
        }
      ]
    },
    {
      "cell_type": "markdown",
      "source": [
        "👉🏻 **Nesting**"
      ],
      "metadata": {
        "id": "i4F7i1t4LsKp"
      }
    },
    {
      "cell_type": "code",
      "source": [
        "hotel = {\n",
        "    \"Name\": \"Taj\",\n",
        "    \"Menu\": {\n",
        "        \"Breakfast\": [\"Chai\", \"Bread\", \"Butter\"],\n",
        "        \"Dinner\": [\"Roti\", \"Sabji\", \"Rice\"]\n",
        "    },\n",
        "    \"Role\": {\n",
        "        \"Anish\": \"Chef\",\n",
        "        \"Suyash\": \"Owner\"\n",
        "    }\n",
        "}\n",
        "print(hotel[\"Menu\"][\"Breakfast\"])\n",
        "print(hotel[\"Role\"][\"Anish\"])\n",
        "print(\"\\n\")\n",
        "\n",
        "hospital = {\n",
        "    \"Name\": \"Poona\",\n",
        "    \"Treatments\": {\n",
        "        \"Bone\": [\"Fracture\", \"Tear\"],\n",
        "        \"Heart\": [\"Transplant\", \"Surgery\"]\n",
        "    },\n",
        "    \"Role\": {\n",
        "        \"Nene\": \"Doctor\",\n",
        "        \"Kale\": \"Cleaner\"\n",
        "    }\n",
        "}\n",
        "\n",
        "places = [hotel, hospital]\n",
        "print(places[1])"
      ],
      "metadata": {
        "colab": {
          "base_uri": "https://localhost:8080/"
        },
        "id": "MhAsfJzvL08o",
        "outputId": "c67c535c-3481-4d54-e3f5-be1e10df7235"
      },
      "execution_count": 58,
      "outputs": [
        {
          "output_type": "stream",
          "name": "stdout",
          "text": [
            "['Chai', 'Bread', 'Butter']\n",
            "Chef\n",
            "\n",
            "\n",
            "{'Name': 'Poona', 'Treatments': {'Bone': ['Fracture', 'Tear'], 'Heart': ['Transplant', 'Surgery']}, 'Role': {'Nene': 'Doctor', 'Kale': 'Cleaner'}}\n"
          ]
        }
      ]
    },
    {
      "cell_type": "markdown",
      "source": [
        "👉🏻 **Calculator Project**"
      ],
      "metadata": {
        "id": "S-nBFcPf8mH2"
      }
    },
    {
      "cell_type": "code",
      "source": [
        "def add(a,b):\n",
        "    return a+b\n",
        "def subtract(a,b):\n",
        "    return a-b\n",
        "def multiply(a,b):\n",
        "    return a*b\n",
        "def divide(a,b):\n",
        "    return a/b\n",
        "ops = {\n",
        "    \"+\": add,\n",
        "    \"-\": subtract,\n",
        "    \"*\": multiply,\n",
        "    \"/\": divide\n",
        "}\n",
        "\n",
        "def calc():\n",
        "    choosedOp = input(\"Choose operation: (+ - * /): \")\n",
        "    a = float(input(\"First Number: \"))\n",
        "    b = float(input(\"Second Number: \"))\n",
        "    print(ops[choosedOp](a,b))\n",
        "    nextMove = input(\"Do you want new calculation session? y or n: \")\n",
        "    if nextMove == 'y':\n",
        "        print(\"\\n\")\n",
        "        calc()\n",
        "\n",
        "calc()"
      ],
      "metadata": {
        "colab": {
          "base_uri": "https://localhost:8080/"
        },
        "id": "2OoBsaYs8zvV",
        "outputId": "aaa83933-377a-42ba-ef8c-0049b3de6f9d"
      },
      "execution_count": 1,
      "outputs": [
        {
          "name": "stdout",
          "output_type": "stream",
          "text": [
            "Choose operation: (+ - * /): /\n",
            "First Number: 15\n",
            "Second Number: 7\n",
            "2.142857142857143\n",
            "Do you want new calculation session? y or n: y\n",
            "\n",
            "\n",
            "Choose operation: (+ - * /): -\n",
            "First Number: 6\n",
            "Second Number: 11\n",
            "-5.0\n",
            "Do you want new calculation session? y or n: n\n"
          ]
        }
      ]
    }
  ]
}